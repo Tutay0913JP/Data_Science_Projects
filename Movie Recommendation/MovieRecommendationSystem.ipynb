{
 "cells": [
  {
   "cell_type": "markdown",
   "id": "d7c7b4c3",
   "metadata": {},
   "source": [
    "# Janine Par: DSC630 - Week10 Recommendation System\n"
   ]
  },
  {
   "cell_type": "markdown",
   "id": "be72ef78",
   "metadata": {},
   "source": [
    "### Load Libraries Needed"
   ]
  },
  {
   "cell_type": "code",
   "execution_count": 28,
   "id": "18b29ec3",
   "metadata": {},
   "outputs": [],
   "source": [
    "#Install library for Fuzzy matching\n",
    "#pip install thefuzz"
   ]
  },
  {
   "cell_type": "code",
   "execution_count": 29,
   "id": "7b291cef",
   "metadata": {},
   "outputs": [],
   "source": [
    "import numpy as np  \n",
    "import pandas as pd  \n",
    "import numbers\n",
    "import matplotlib.pyplot as plt\n",
    "import warnings\n",
    "import scipy.stats as ss\n",
    "warnings.filterwarnings('ignore')\n",
    "\n",
    "pd.set_option('display.max_rows', 100)\n",
    "pd.set_option('display.max_columns', 100)"
   ]
  },
  {
   "cell_type": "markdown",
   "id": "c1248797",
   "metadata": {},
   "source": [
    "### Step 1: Load the Small Movie Lense to Panda Dataframe"
   ]
  },
  {
   "cell_type": "code",
   "execution_count": 40,
   "id": "723e06cd",
   "metadata": {},
   "outputs": [],
   "source": [
    "df_links = pd.read_csv(f'ml-latest-small/links.csv')\n",
    "df_movies = pd.read_csv(f'ml-latest-small/movies.csv')\n",
    "df_ratings = pd.read_csv(f'ml-latest-small/ratings.csv')\n",
    "df_tags = pd.read_csv(f'ml-latest-small/tags.csv')"
   ]
  },
  {
   "cell_type": "markdown",
   "id": "ef9f0360",
   "metadata": {},
   "source": [
    "#### Step 2: Display and view details of each datasets"
   ]
  },
  {
   "cell_type": "code",
   "execution_count": 31,
   "id": "51d6153d",
   "metadata": {},
   "outputs": [
    {
     "name": "stdout",
     "output_type": "stream",
     "text": [
      "links data has 9742 rows and 3 columns. \n",
      "\n"
     ]
    },
    {
     "data": {
      "text/html": [
       "<div>\n",
       "<style scoped>\n",
       "    .dataframe tbody tr th:only-of-type {\n",
       "        vertical-align: middle;\n",
       "    }\n",
       "\n",
       "    .dataframe tbody tr th {\n",
       "        vertical-align: top;\n",
       "    }\n",
       "\n",
       "    .dataframe thead th {\n",
       "        text-align: right;\n",
       "    }\n",
       "</style>\n",
       "<table border=\"1\" class=\"dataframe\">\n",
       "  <thead>\n",
       "    <tr style=\"text-align: right;\">\n",
       "      <th></th>\n",
       "      <th>movieId</th>\n",
       "      <th>imdbId</th>\n",
       "      <th>tmdbId</th>\n",
       "    </tr>\n",
       "  </thead>\n",
       "  <tbody>\n",
       "    <tr>\n",
       "      <th>0</th>\n",
       "      <td>1</td>\n",
       "      <td>114709</td>\n",
       "      <td>862.0</td>\n",
       "    </tr>\n",
       "    <tr>\n",
       "      <th>1</th>\n",
       "      <td>2</td>\n",
       "      <td>113497</td>\n",
       "      <td>8844.0</td>\n",
       "    </tr>\n",
       "    <tr>\n",
       "      <th>2</th>\n",
       "      <td>3</td>\n",
       "      <td>113228</td>\n",
       "      <td>15602.0</td>\n",
       "    </tr>\n",
       "    <tr>\n",
       "      <th>3</th>\n",
       "      <td>4</td>\n",
       "      <td>114885</td>\n",
       "      <td>31357.0</td>\n",
       "    </tr>\n",
       "    <tr>\n",
       "      <th>4</th>\n",
       "      <td>5</td>\n",
       "      <td>113041</td>\n",
       "      <td>11862.0</td>\n",
       "    </tr>\n",
       "  </tbody>\n",
       "</table>\n",
       "</div>"
      ],
      "text/plain": [
       "   movieId  imdbId   tmdbId\n",
       "0        1  114709    862.0\n",
       "1        2  113497   8844.0\n",
       "2        3  113228  15602.0\n",
       "3        4  114885  31357.0\n",
       "4        5  113041  11862.0"
      ]
     },
     "metadata": {},
     "output_type": "display_data"
    },
    {
     "name": "stdout",
     "output_type": "stream",
     "text": [
      "movies data has 9742 rows and 3 columns. \n",
      "\n"
     ]
    },
    {
     "data": {
      "text/html": [
       "<div>\n",
       "<style scoped>\n",
       "    .dataframe tbody tr th:only-of-type {\n",
       "        vertical-align: middle;\n",
       "    }\n",
       "\n",
       "    .dataframe tbody tr th {\n",
       "        vertical-align: top;\n",
       "    }\n",
       "\n",
       "    .dataframe thead th {\n",
       "        text-align: right;\n",
       "    }\n",
       "</style>\n",
       "<table border=\"1\" class=\"dataframe\">\n",
       "  <thead>\n",
       "    <tr style=\"text-align: right;\">\n",
       "      <th></th>\n",
       "      <th>movieId</th>\n",
       "      <th>title</th>\n",
       "      <th>genres</th>\n",
       "    </tr>\n",
       "  </thead>\n",
       "  <tbody>\n",
       "    <tr>\n",
       "      <th>0</th>\n",
       "      <td>1</td>\n",
       "      <td>Toy Story (1995)</td>\n",
       "      <td>Adventure|Animation|Children|Comedy|Fantasy</td>\n",
       "    </tr>\n",
       "    <tr>\n",
       "      <th>1</th>\n",
       "      <td>2</td>\n",
       "      <td>Jumanji (1995)</td>\n",
       "      <td>Adventure|Children|Fantasy</td>\n",
       "    </tr>\n",
       "    <tr>\n",
       "      <th>2</th>\n",
       "      <td>3</td>\n",
       "      <td>Grumpier Old Men (1995)</td>\n",
       "      <td>Comedy|Romance</td>\n",
       "    </tr>\n",
       "    <tr>\n",
       "      <th>3</th>\n",
       "      <td>4</td>\n",
       "      <td>Waiting to Exhale (1995)</td>\n",
       "      <td>Comedy|Drama|Romance</td>\n",
       "    </tr>\n",
       "    <tr>\n",
       "      <th>4</th>\n",
       "      <td>5</td>\n",
       "      <td>Father of the Bride Part II (1995)</td>\n",
       "      <td>Comedy</td>\n",
       "    </tr>\n",
       "  </tbody>\n",
       "</table>\n",
       "</div>"
      ],
      "text/plain": [
       "   movieId                               title  \\\n",
       "0        1                    Toy Story (1995)   \n",
       "1        2                      Jumanji (1995)   \n",
       "2        3             Grumpier Old Men (1995)   \n",
       "3        4            Waiting to Exhale (1995)   \n",
       "4        5  Father of the Bride Part II (1995)   \n",
       "\n",
       "                                        genres  \n",
       "0  Adventure|Animation|Children|Comedy|Fantasy  \n",
       "1                   Adventure|Children|Fantasy  \n",
       "2                               Comedy|Romance  \n",
       "3                         Comedy|Drama|Romance  \n",
       "4                                       Comedy  "
      ]
     },
     "metadata": {},
     "output_type": "display_data"
    },
    {
     "name": "stdout",
     "output_type": "stream",
     "text": [
      "ratings data has 100836 rows and 4 columns. \n",
      "\n"
     ]
    },
    {
     "data": {
      "text/html": [
       "<div>\n",
       "<style scoped>\n",
       "    .dataframe tbody tr th:only-of-type {\n",
       "        vertical-align: middle;\n",
       "    }\n",
       "\n",
       "    .dataframe tbody tr th {\n",
       "        vertical-align: top;\n",
       "    }\n",
       "\n",
       "    .dataframe thead th {\n",
       "        text-align: right;\n",
       "    }\n",
       "</style>\n",
       "<table border=\"1\" class=\"dataframe\">\n",
       "  <thead>\n",
       "    <tr style=\"text-align: right;\">\n",
       "      <th></th>\n",
       "      <th>userId</th>\n",
       "      <th>movieId</th>\n",
       "      <th>rating</th>\n",
       "      <th>timestamp</th>\n",
       "    </tr>\n",
       "  </thead>\n",
       "  <tbody>\n",
       "    <tr>\n",
       "      <th>0</th>\n",
       "      <td>1</td>\n",
       "      <td>1</td>\n",
       "      <td>4.0</td>\n",
       "      <td>964982703</td>\n",
       "    </tr>\n",
       "    <tr>\n",
       "      <th>1</th>\n",
       "      <td>1</td>\n",
       "      <td>3</td>\n",
       "      <td>4.0</td>\n",
       "      <td>964981247</td>\n",
       "    </tr>\n",
       "    <tr>\n",
       "      <th>2</th>\n",
       "      <td>1</td>\n",
       "      <td>6</td>\n",
       "      <td>4.0</td>\n",
       "      <td>964982224</td>\n",
       "    </tr>\n",
       "    <tr>\n",
       "      <th>3</th>\n",
       "      <td>1</td>\n",
       "      <td>47</td>\n",
       "      <td>5.0</td>\n",
       "      <td>964983815</td>\n",
       "    </tr>\n",
       "    <tr>\n",
       "      <th>4</th>\n",
       "      <td>1</td>\n",
       "      <td>50</td>\n",
       "      <td>5.0</td>\n",
       "      <td>964982931</td>\n",
       "    </tr>\n",
       "  </tbody>\n",
       "</table>\n",
       "</div>"
      ],
      "text/plain": [
       "   userId  movieId  rating  timestamp\n",
       "0       1        1     4.0  964982703\n",
       "1       1        3     4.0  964981247\n",
       "2       1        6     4.0  964982224\n",
       "3       1       47     5.0  964983815\n",
       "4       1       50     5.0  964982931"
      ]
     },
     "metadata": {},
     "output_type": "display_data"
    },
    {
     "name": "stdout",
     "output_type": "stream",
     "text": [
      "tags data has 3683 rows and 4 columns. \n",
      "\n"
     ]
    },
    {
     "data": {
      "text/html": [
       "<div>\n",
       "<style scoped>\n",
       "    .dataframe tbody tr th:only-of-type {\n",
       "        vertical-align: middle;\n",
       "    }\n",
       "\n",
       "    .dataframe tbody tr th {\n",
       "        vertical-align: top;\n",
       "    }\n",
       "\n",
       "    .dataframe thead th {\n",
       "        text-align: right;\n",
       "    }\n",
       "</style>\n",
       "<table border=\"1\" class=\"dataframe\">\n",
       "  <thead>\n",
       "    <tr style=\"text-align: right;\">\n",
       "      <th></th>\n",
       "      <th>userId</th>\n",
       "      <th>movieId</th>\n",
       "      <th>tag</th>\n",
       "      <th>timestamp</th>\n",
       "    </tr>\n",
       "  </thead>\n",
       "  <tbody>\n",
       "    <tr>\n",
       "      <th>0</th>\n",
       "      <td>2</td>\n",
       "      <td>60756</td>\n",
       "      <td>funny</td>\n",
       "      <td>1445714994</td>\n",
       "    </tr>\n",
       "    <tr>\n",
       "      <th>1</th>\n",
       "      <td>2</td>\n",
       "      <td>60756</td>\n",
       "      <td>Highly quotable</td>\n",
       "      <td>1445714996</td>\n",
       "    </tr>\n",
       "    <tr>\n",
       "      <th>2</th>\n",
       "      <td>2</td>\n",
       "      <td>60756</td>\n",
       "      <td>will ferrell</td>\n",
       "      <td>1445714992</td>\n",
       "    </tr>\n",
       "    <tr>\n",
       "      <th>3</th>\n",
       "      <td>2</td>\n",
       "      <td>89774</td>\n",
       "      <td>Boxing story</td>\n",
       "      <td>1445715207</td>\n",
       "    </tr>\n",
       "    <tr>\n",
       "      <th>4</th>\n",
       "      <td>2</td>\n",
       "      <td>89774</td>\n",
       "      <td>MMA</td>\n",
       "      <td>1445715200</td>\n",
       "    </tr>\n",
       "  </tbody>\n",
       "</table>\n",
       "</div>"
      ],
      "text/plain": [
       "   userId  movieId              tag   timestamp\n",
       "0       2    60756            funny  1445714994\n",
       "1       2    60756  Highly quotable  1445714996\n",
       "2       2    60756     will ferrell  1445714992\n",
       "3       2    89774     Boxing story  1445715207\n",
       "4       2    89774              MMA  1445715200"
      ]
     },
     "metadata": {},
     "output_type": "display_data"
    }
   ],
   "source": [
    "def print_df(df, name):\n",
    "    '''Display df shape and first row '''\n",
    "    print(f'{name} data has {df.shape[0]} rows and {df.shape[1]} columns. \\n')\n",
    "    display(df.head(5))\n",
    "    \n",
    "print_df(df_links, 'links')\n",
    "print_df(df_movies, 'movies')\n",
    "print_df(df_ratings, 'ratings')\n",
    "print_df(df_tags, 'tags')"
   ]
  },
  {
   "cell_type": "markdown",
   "id": "69a8ff34",
   "metadata": {},
   "source": [
    "## EDA\n",
    "#### Step 3: Check Null values"
   ]
  },
  {
   "cell_type": "code",
   "execution_count": 32,
   "id": "da1187a8",
   "metadata": {},
   "outputs": [],
   "source": [
    "#Check Nulls\n",
    "def df_missing_cols (df, name):\n",
    "    for c in df.columns:\n",
    "            is_missing=df[c].isna().sum()\n",
    "            if is_missing > 0:\n",
    "                print (\"dataframe {} column {} has {} missing values (s)\". format (name,c,is_missing))\n"
   ]
  },
  {
   "cell_type": "code",
   "execution_count": 41,
   "id": "b7a9bfb1",
   "metadata": {},
   "outputs": [
    {
     "name": "stdout",
     "output_type": "stream",
     "text": [
      "dataframe links column tmdbId has 8 missing values (s)\n"
     ]
    }
   ],
   "source": [
    "df_missing_cols(df_links, 'links')\n",
    "df_missing_cols(df_movies, 'movies')\n",
    "df_missing_cols(df_ratings, 'ratings')\n",
    "df_missing_cols(df_tags, 'tags')"
   ]
  },
  {
   "cell_type": "code",
   "execution_count": 42,
   "id": "894a3e96",
   "metadata": {},
   "outputs": [],
   "source": [
    "df_links['tmdbId'] = df_links['tmdbId'].fillna(0)"
   ]
  },
  {
   "cell_type": "markdown",
   "id": "20309168",
   "metadata": {},
   "source": [
    "##### Step 3.2: Merge Movies and ratings datasets"
   ]
  },
  {
   "cell_type": "code",
   "execution_count": 74,
   "id": "c1a31992",
   "metadata": {},
   "outputs": [
    {
     "data": {
      "text/html": [
       "<div>\n",
       "<style scoped>\n",
       "    .dataframe tbody tr th:only-of-type {\n",
       "        vertical-align: middle;\n",
       "    }\n",
       "\n",
       "    .dataframe tbody tr th {\n",
       "        vertical-align: top;\n",
       "    }\n",
       "\n",
       "    .dataframe thead th {\n",
       "        text-align: right;\n",
       "    }\n",
       "</style>\n",
       "<table border=\"1\" class=\"dataframe\">\n",
       "  <thead>\n",
       "    <tr style=\"text-align: right;\">\n",
       "      <th></th>\n",
       "      <th>movieId</th>\n",
       "      <th>title</th>\n",
       "      <th>genres</th>\n",
       "      <th>userId</th>\n",
       "      <th>rating</th>\n",
       "      <th>timestamp</th>\n",
       "    </tr>\n",
       "  </thead>\n",
       "  <tbody>\n",
       "    <tr>\n",
       "      <th>0</th>\n",
       "      <td>1</td>\n",
       "      <td>Toy Story (1995)</td>\n",
       "      <td>Adventure|Animation|Children|Comedy|Fantasy</td>\n",
       "      <td>1</td>\n",
       "      <td>4.0</td>\n",
       "      <td>964982703</td>\n",
       "    </tr>\n",
       "    <tr>\n",
       "      <th>1</th>\n",
       "      <td>1</td>\n",
       "      <td>Toy Story (1995)</td>\n",
       "      <td>Adventure|Animation|Children|Comedy|Fantasy</td>\n",
       "      <td>5</td>\n",
       "      <td>4.0</td>\n",
       "      <td>847434962</td>\n",
       "    </tr>\n",
       "    <tr>\n",
       "      <th>2</th>\n",
       "      <td>1</td>\n",
       "      <td>Toy Story (1995)</td>\n",
       "      <td>Adventure|Animation|Children|Comedy|Fantasy</td>\n",
       "      <td>7</td>\n",
       "      <td>4.5</td>\n",
       "      <td>1106635946</td>\n",
       "    </tr>\n",
       "    <tr>\n",
       "      <th>3</th>\n",
       "      <td>1</td>\n",
       "      <td>Toy Story (1995)</td>\n",
       "      <td>Adventure|Animation|Children|Comedy|Fantasy</td>\n",
       "      <td>15</td>\n",
       "      <td>2.5</td>\n",
       "      <td>1510577970</td>\n",
       "    </tr>\n",
       "    <tr>\n",
       "      <th>4</th>\n",
       "      <td>1</td>\n",
       "      <td>Toy Story (1995)</td>\n",
       "      <td>Adventure|Animation|Children|Comedy|Fantasy</td>\n",
       "      <td>17</td>\n",
       "      <td>4.5</td>\n",
       "      <td>1305696483</td>\n",
       "    </tr>\n",
       "  </tbody>\n",
       "</table>\n",
       "</div>"
      ],
      "text/plain": [
       "   movieId             title                                       genres  \\\n",
       "0        1  Toy Story (1995)  Adventure|Animation|Children|Comedy|Fantasy   \n",
       "1        1  Toy Story (1995)  Adventure|Animation|Children|Comedy|Fantasy   \n",
       "2        1  Toy Story (1995)  Adventure|Animation|Children|Comedy|Fantasy   \n",
       "3        1  Toy Story (1995)  Adventure|Animation|Children|Comedy|Fantasy   \n",
       "4        1  Toy Story (1995)  Adventure|Animation|Children|Comedy|Fantasy   \n",
       "\n",
       "   userId  rating   timestamp  \n",
       "0       1     4.0   964982703  \n",
       "1       5     4.0   847434962  \n",
       "2       7     4.5  1106635946  \n",
       "3      15     2.5  1510577970  \n",
       "4      17     4.5  1305696483  "
      ]
     },
     "execution_count": 74,
     "metadata": {},
     "output_type": "execute_result"
    }
   ],
   "source": [
    "df = pd.merge(df_movies, df_ratings)\n",
    "df.head()"
   ]
  },
  {
   "cell_type": "markdown",
   "id": "f7d54988",
   "metadata": {},
   "source": [
    "##### Step 3.4: Remove Timestamp, we will not need this column for user user collaborative filtering"
   ]
  },
  {
   "cell_type": "code",
   "execution_count": 75,
   "id": "d2aaded8",
   "metadata": {},
   "outputs": [],
   "source": [
    "df.drop( \"timestamp\", inplace = True, axis = 1 ) "
   ]
  },
  {
   "cell_type": "markdown",
   "id": "0e134bee",
   "metadata": {},
   "source": [
    "##### Step 3.5 See User, Movie and Rating information "
   ]
  },
  {
   "cell_type": "code",
   "execution_count": 78,
   "id": "b58eddd0",
   "metadata": {},
   "outputs": [
    {
     "name": "stdout",
     "output_type": "stream",
     "text": [
      "Unique number of users in the dataset: 610\n"
     ]
    }
   ],
   "source": [
    "num_users = len(df['userId'].value_counts())\n",
    "print('Unique number of users in the dataset: {}'.format(num_users))"
   ]
  },
  {
   "cell_type": "code",
   "execution_count": 79,
   "id": "2951cda9",
   "metadata": {},
   "outputs": [
    {
     "name": "stdout",
     "output_type": "stream",
     "text": [
      "Unique number of movies in the dataset: 9719\n"
     ]
    }
   ],
   "source": [
    "num_items = len(df['title'].value_counts())\n",
    "print('Unique number of movies in the dataset: {}'.format(num_items))\n"
   ]
  },
  {
   "cell_type": "code",
   "execution_count": 102,
   "id": "b04f7133",
   "metadata": {},
   "outputs": [
    {
     "data": {
      "text/html": [
       "<div>\n",
       "<style scoped>\n",
       "    .dataframe tbody tr th:only-of-type {\n",
       "        vertical-align: middle;\n",
       "    }\n",
       "\n",
       "    .dataframe tbody tr th {\n",
       "        vertical-align: top;\n",
       "    }\n",
       "\n",
       "    .dataframe thead th {\n",
       "        text-align: right;\n",
       "    }\n",
       "</style>\n",
       "<table border=\"1\" class=\"dataframe\">\n",
       "  <thead>\n",
       "    <tr style=\"text-align: right;\">\n",
       "      <th></th>\n",
       "      <th>count</th>\n",
       "    </tr>\n",
       "    <tr>\n",
       "      <th>rating</th>\n",
       "      <th></th>\n",
       "    </tr>\n",
       "  </thead>\n",
       "  <tbody>\n",
       "    <tr>\n",
       "      <th>0.5</th>\n",
       "      <td>1370</td>\n",
       "    </tr>\n",
       "    <tr>\n",
       "      <th>1.0</th>\n",
       "      <td>2811</td>\n",
       "    </tr>\n",
       "    <tr>\n",
       "      <th>1.5</th>\n",
       "      <td>1791</td>\n",
       "    </tr>\n",
       "    <tr>\n",
       "      <th>2.0</th>\n",
       "      <td>7551</td>\n",
       "    </tr>\n",
       "    <tr>\n",
       "      <th>2.5</th>\n",
       "      <td>5550</td>\n",
       "    </tr>\n",
       "    <tr>\n",
       "      <th>3.0</th>\n",
       "      <td>20047</td>\n",
       "    </tr>\n",
       "    <tr>\n",
       "      <th>3.5</th>\n",
       "      <td>13136</td>\n",
       "    </tr>\n",
       "    <tr>\n",
       "      <th>4.0</th>\n",
       "      <td>26818</td>\n",
       "    </tr>\n",
       "    <tr>\n",
       "      <th>4.5</th>\n",
       "      <td>8551</td>\n",
       "    </tr>\n",
       "    <tr>\n",
       "      <th>5.0</th>\n",
       "      <td>13211</td>\n",
       "    </tr>\n",
       "  </tbody>\n",
       "</table>\n",
       "</div>"
      ],
      "text/plain": [
       "        count\n",
       "rating       \n",
       "0.5      1370\n",
       "1.0      2811\n",
       "1.5      1791\n",
       "2.0      7551\n",
       "2.5      5550\n",
       "3.0     20047\n",
       "3.5     13136\n",
       "4.0     26818\n",
       "4.5      8551\n",
       "5.0     13211"
      ]
     },
     "execution_count": 102,
     "metadata": {},
     "output_type": "execute_result"
    }
   ],
   "source": [
    "df_rating_cnt = pd.DataFrame(df.groupby(['rating']).size(), \n",
    "                             columns=['count']).sort_values (by='rating'\n",
    "                                                             , ascending=True)\n",
    "df_rating_cnt"
   ]
  },
  {
   "cell_type": "code",
   "execution_count": 112,
   "id": "822ad17c",
   "metadata": {},
   "outputs": [
    {
     "data": {
      "text/plain": [
       "Text(0, 0.5, '# Ratings')"
      ]
     },
     "execution_count": 112,
     "metadata": {},
     "output_type": "execute_result"
    },
    {
     "data": {
      "image/png": "[encoded data removed]",
      "text/plain": [
       "<Figure size 1200x800 with 1 Axes>"
      ]
     },
     "metadata": {},
     "output_type": "display_data"
    }
   ],
   "source": [
    "ax = df_rating_cnt.reset_index().rename(columns={'index': 'rating score'}).plot('rating','count', 'bar',\n",
    "    figsize=(12, 8),\n",
    "    title='Count for Each Rating',\n",
    "    fontsize=12)\n",
    "\n",
    "ax.set_xlabel(\"Movie Rating\")\n",
    "ax.set_ylabel(\"# Ratings\")"
   ]
  },
  {
   "cell_type": "markdown",
   "id": "00046878",
   "metadata": {},
   "source": [
    "We have observed that this distribution chart shows that ratings 3 and 4 are given in more numbers by the users."
   ]
  },
  {
   "cell_type": "markdown",
   "id": "046a3b99",
   "metadata": {},
   "source": [
    "#### Step 5: Build Recommendation System - Collaborative Filtering"
   ]
  },
  {
   "cell_type": "markdown",
   "id": "100149eb",
   "metadata": {},
   "source": [
    "The collaborative filtering approach is based on user behavior to generate recommendation System. In this, the system looks for users who share the same rating patterns with the user whom the prediction is for. \n",
    "\n",
    "I have referenced and used the method from \"Building a MovieLens Recommender System\" by Jull Cates with Tutorial.\n",
    "\n",
    "Building a MovieLens Recommender System. (2023, August 16). [Video]. Youtube. https://www.youtube.com/watch?v=XfAe-HLysOM\n",
    "\n",
    "\n"
   ]
  },
  {
   "cell_type": "markdown",
   "id": "d4f911b6",
   "metadata": {},
   "source": [
    "##### Step 5.1: Create Sparse Matrix \n",
    "Contains four mapper dictionaries:\n",
    "\n",
    "* user_mapper: maps user id to user index\n",
    "\n",
    "* movie_mapper: maps movie id to movie index\n",
    "\n",
    "* user_inv_mapper: maps user index to user id\n",
    "\n",
    "* movie_inv_mapper: maps movie index to movie id"
   ]
  },
  {
   "cell_type": "code",
   "execution_count": 48,
   "id": "315f836d",
   "metadata": {},
   "outputs": [],
   "source": [
    "M = df['userId'].nunique()\n",
    "N = df['movieId'].nunique()\n",
    "user_mapper = dict(zip(np.unique(df[\"userId\"]), list(range(M))))  #User ID and User Index\n",
    "movie_mapper = dict(zip(np.unique(df[\"movieId\"]), list(range(N)))) # Movie ID to Movie Index\n",
    "user_inv_mapper = dict(zip(list(range(M)), np.unique(df[\"userId\"])))\n",
    "movie_inv_mapper = dict(zip(list(range(N)), np.unique(df[\"movieId\"])))"
   ]
  },
  {
   "cell_type": "code",
   "execution_count": 49,
   "id": "54558c57",
   "metadata": {},
   "outputs": [],
   "source": [
    "user_index = [user_mapper[i] for i in df['userId']]\n",
    "item_index = [movie_mapper[i] for i in df['movieId']]"
   ]
  },
  {
   "cell_type": "markdown",
   "id": "858837d3",
   "metadata": {},
   "source": [
    "Build Sparse Matrix "
   ]
  },
  {
   "cell_type": "code",
   "execution_count": 51,
   "id": "7af01a6b",
   "metadata": {},
   "outputs": [],
   "source": [
    "from scipy.sparse import csr_matrix\n",
    "X = csr_matrix((df[\"rating\"], (user_index,item_index)), shape=(M,N))"
   ]
  },
  {
   "cell_type": "markdown",
   "id": "a87e812c",
   "metadata": {},
   "source": [
    "Read and review the sparse matrix"
   ]
  },
  {
   "cell_type": "code",
   "execution_count": 54,
   "id": "2fdcce7e",
   "metadata": {},
   "outputs": [
    {
     "name": "stdout",
     "output_type": "stream",
     "text": [
      "Most active user rated 2698 movies.\n",
      "Least active user rated 20 movies.\n"
     ]
    }
   ],
   "source": [
    "print(f\"Most active user rated {n_ratings_per_user.max()} movies.\")\n",
    "print(f\"Least active user rated {n_ratings_per_user.min()} movies.\")"
   ]
  },
  {
   "cell_type": "code",
   "execution_count": 55,
   "id": "e7bac4ee",
   "metadata": {},
   "outputs": [
    {
     "data": {
      "text/plain": [
       "9724"
      ]
     },
     "execution_count": 55,
     "metadata": {},
     "output_type": "execute_result"
    }
   ],
   "source": [
    "n_ratings_per_movie = X.getnnz(axis=0)\n",
    "len(n_ratings_per_movie)"
   ]
  },
  {
   "cell_type": "code",
   "execution_count": 56,
   "id": "69843b6c",
   "metadata": {},
   "outputs": [
    {
     "name": "stdout",
     "output_type": "stream",
     "text": [
      "Most rated movie has 329 ratings.\n",
      "Least rated movie has 1 ratings.\n"
     ]
    }
   ],
   "source": [
    "print(f\"Most rated movie has {n_ratings_per_movie.max()} ratings.\")\n",
    "print(f\"Least rated movie has {n_ratings_per_movie.min()} ratings.\")"
   ]
  },
  {
   "cell_type": "markdown",
   "id": "45a2ae31",
   "metadata": {},
   "source": [
    "##### Step 5.2: Use K-Nearest Neighbors to identify the movies that have the most similar user engagement vectors for the entered movie\n"
   ]
  },
  {
   "cell_type": "code",
   "execution_count": 107,
   "id": "256656c3",
   "metadata": {},
   "outputs": [],
   "source": [
    "from sklearn.neighbors import NearestNeighbors\n",
    "\n",
    "def find_similar_movies(movie_id, X, movie_mapper,\n",
    "                        movie_inv_mapper, k, metric='cosine'):\n",
    "    \"\"\"\n",
    "    Finds k-nearest neighbours for a given movie id.\n",
    "    \n",
    "    Args:\n",
    "        movie_id: id of the movie of interest\n",
    "        X: user-item utility matrix\n",
    "        k: number of similar movies to retrieve\n",
    "        metric: distance metric for kNN calculations\n",
    "    \n",
    "    Output: returns list of k similar movie ID's\n",
    "    \"\"\"\n",
    "    X = X.T\n",
    "    neighbour_ids = []\n",
    "    \n",
    "    movie_ind = movie_mapper[movie_id]\n",
    "    movie_vec = X[movie_ind]\n",
    "    if isinstance(movie_vec, (np.ndarray)):\n",
    "        movie_vec = movie_vec.reshape(1,-1)\n",
    "        \n",
    "    # use k+1 since kNN output includes the movieId of interest\n",
    "    kNN = NearestNeighbors(n_neighbors=k+1, algorithm=\"brute\", metric=metric)\n",
    "    kNN.fit(X)\n",
    "    neighbour = kNN.kneighbors(movie_vec, return_distance=False)\n",
    "    for i in range(0,k):\n",
    "        n = neighbour.item(i)\n",
    "        neighbour_ids.append(movie_inv_mapper[n])\n",
    "    neighbour_ids.pop(0)\n",
    "    return neighbour_ids"
   ]
  },
  {
   "cell_type": "markdown",
   "id": "f3c34bd7",
   "metadata": {},
   "source": [
    "#### Step 6:  Ask for User Input. I have used the Python Package fuzzywussy which allows to match movie title from the dataset that is  similar to the movie title string that is entered by the user\n",
    "\n",
    "The process will get the most matched title name from our list and it will return the title, the matching ratio and the movie index\n",
    "\n",
    "The movie index is used as input to the \"find_similar_movies\" function which get's the K Nearest Neighbor=10 movies and return the result"
   ]
  },
  {
   "cell_type": "code",
   "execution_count": 114,
   "id": "e5ebdde4",
   "metadata": {},
   "outputs": [
    {
     "name": "stdout",
     "output_type": "stream",
     "text": [
      "****************************** Movie Recommendation System ******************************\n",
      "\n",
      "Please enter a movie which you like to watch: WOMEN\n",
      "******************************************************************************************\n",
      "\n",
      "\n",
      "Here's a match based on what you entered: Little Women (1994)\n",
      "\n",
      "******************************************************************************************\n",
      "Because you watched -> Little Women (1994), here are some of movies that other users likes based on ratings: \n",
      "\n",
      "Outbreak (1995)\n",
      "Clear and Present Danger (1994)\n",
      "Cliffhanger (1993)\n",
      "Net, The (1995)\n",
      "Firm, The (1993)\n",
      "Crimson Tide (1995)\n",
      "Specialist, The (1994)\n",
      "Milk Money (1994)\n",
      "True Lies (1994)\n"
     ]
    }
   ],
   "source": [
    "from thefuzz import process\n",
    "\n",
    "#Request user to enter the movie title \n",
    "print('*'*30+' Movie Recommendation System '+'*'*30+\"\\n\")\n",
    "usr_movie_int=input ('Please enter a movie which you like to watch: ')\n",
    "\n",
    "# Get a list of matches ordered by score, limit to one\n",
    "choices = df_movies['title']\n",
    "usr_movie_int, movie_fuzzy_ratio, movie_index =process.extractOne(usr_movie_int, choices)\n",
    "\n",
    "print('*'*90+\"\\n\")\n",
    "print (f\"\\nHere's a match based on what you entered: {usr_movie_int}\" +\"\\n\")\n",
    "print('*'*90)\n",
    "\n",
    "# Call the K-means to get K(10) similar movies based on Ratings\n",
    "movie_titles = dict(zip(df_movies['movieId'], df_movies['title']))\n",
    "similar_movies = find_similar_movies(movie_index, X, movie_mapper, movie_inv_mapper, k=10)\n",
    "print(f\"Because you watched -> {usr_movie_int}, here are some of movies that other users likes based on ratings: \"+\"\\n\")\n",
    "for i in similar_movies:\n",
    "    print(movie_titles[i])\n"
   ]
  },
  {
   "cell_type": "markdown",
   "id": "d2ef65ff",
   "metadata": {},
   "source": [
    "#### Summary: Collaborative Filtering can make accurate recommendation of movies based on the assumption that users will like similar kinds of items as they liked in the past. The system generates recommendations using only information about rating profiles for different users or items. This has disadvantages such as: \n",
    "\n",
    "* Items that are new and have never been rated cannot be recommended since recommendation relies on prior rating.\n",
    "* This approach  recommend items that are popular and therefore may under perform for users with different preferences.\n",
    "\n",
    "\n"
   ]
  }
 ],
 "metadata": {
  "kernelspec": {
   "display_name": "Python 3 (ipykernel)",
   "language": "python",
   "name": "python3"
  },
  "language_info": {
   "codemirror_mode": {
    "name": "ipython",
    "version": 3
   },
   "file_extension": ".py",
   "mimetype": "text/x-python",
   "name": "python",
   "nbconvert_exporter": "python",
   "pygments_lexer": "ipython3",
   "version": "3.9.13"
  }
 },
 "nbformat": 4,
 "nbformat_minor": 5
}

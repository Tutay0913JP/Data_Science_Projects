{
 "cells": [
  {
   "cell_type": "markdown",
   "id": "6bf32a92",
   "metadata": {
    "papermill": {
     "duration": 0.010673,
     "end_time": "2024-11-05T13:35:46.477640",
     "exception": false,
     "start_time": "2024-11-05T13:35:46.466967",
     "status": "completed"
    },
    "tags": []
   },
   "source": [
    "<h2 style=\"text-align: center; color: #3636D2;\">Optimizing Gym Membership Engagement Through Targeted Demographic and Fitness Program Insights</h2>\n",
    "\n",
    "<div style=\"text-align: center;\">\n",
    "    <img src=\"https://images.unsplash.com/photo-1534438327276-14e5300c3a48?fm=jpg&q=60&w=3000&ixlib=rb-4.0.3&ixid=M3wxMjA3fDB8MHxzZWFyY2h8M3x8dGhlJTIwZ3ltfGVufDB8fDB8fHww\" alt=\"Image\" style=\"width: 500px; height: auto;\">\n",
    "</div>\n",
    "<br>\n",
    "We have a gym membership data with us and the dataset provides a detailed overview of gym members' exercise routines, physical attributes, and fitness metrics. It contains 973 samples of gym data, including key performance indicators such as heart rate, calories burned, and workout duration. Each entry also includes demographic data and experience levels, allowing for comprehensive analysis of fitness patterns, athlete progression, and health trends.\n",
    "\n",
    "Key Features:\n",
    "\n",
    "- Age: Age of the gym member.\n",
    "- Gender: Gender of the gym member (Male or Female).\n",
    "- Weight (kg): Member’s weight in kilograms.\n",
    "- Height (m): Member’s height in meters.\n",
    "- Max_BPM: Maximum heart rate (beats per minute) during workout sessions.\n",
    "- Avg_BPM: Average heart rate during workout sessions.\n",
    "- Resting_BPM: Heart rate at rest before workout.\n",
    "- Session_Duration (hours): Duration of each workout session in hours.\n",
    "- Calories_Burned: Total calories burned during each session.\n",
    "- Workout_Type: Type of workout performed (e.g., Cardio, Strength, Yoga, HIIT).\n",
    "- Fat_Percentage: Body fat percentage of the member.\n",
    "- Water_Intake (liters): Daily water intake during workouts.\n",
    "- Workout_Frequency (days/week): Number of workout sessions per week.\n",
    "- Experience_Level: Level of experience, from beginner (1) to expert (3).\n",
    "- BMI: Body Mass Index, calculated from height and weight.\n",
    "\n",
    "This dataset is ideal for data scientists, health researchers, and fitness enthusiasts interested in studying exercise habits, modeling fitness progression, or analyzing the relationship between demographic and physiological data. With a wide range of variables, it offers insights into how different factors affect workout intensity, endurance, and overall health"
   ]
  },
  {
   "cell_type": "markdown",
   "id": "6f47df5c",
   "metadata": {
    "papermill": {
     "duration": 0.00983,
     "end_time": "2024-11-05T13:35:46.497690",
     "exception": false,
     "start_time": "2024-11-05T13:35:46.487860",
     "status": "completed"
    },
    "tags": []
   },
   "source": [
    "## PROBLEM STATEMENT\n",
    "\n",
    "How can our gym boost sign-ups by effectively targeting and engaging specific gender demographics, leveraging current membership distribution and workout preferences?"
   ]
  },
  {
   "cell_type": "code",
   "execution_count": 1,
   "id": "0390c822",
   "metadata": {
    "_cell_guid": "b1076dfc-b9ad-4769-8c92-a6c4dae69d19",
    "_uuid": "8f2839f25d086af736a60e9eeb907d3b93b6e0e5",
    "execution": {
     "iopub.execute_input": "2024-11-05T13:35:46.519753Z",
     "iopub.status.busy": "2024-11-05T13:35:46.519183Z",
     "iopub.status.idle": "2024-11-05T13:35:49.945856Z",
     "shell.execute_reply": "2024-11-05T13:35:49.943584Z"
    },
    "papermill": {
     "duration": 3.441303,
     "end_time": "2024-11-05T13:35:49.948919",
     "exception": false,
     "start_time": "2024-11-05T13:35:46.507616",
     "status": "completed"
    },
    "tags": []
   },
   "outputs": [],
   "source": [
    "import numpy as np # linear algebra\n",
    "import pandas as pd # data processing, CSV file I/O (e.g. pd.read_csv)\n",
    "import warnings\n",
    "warnings.filterwarnings('ignore')\n",
    "import matplotlib.pyplot as plt\n",
    "plt.rcParams['figure.figsize'] = (20,5)\n",
    "plt.rcParams['axes.spines.top'] = False\n",
    "plt.rcParams['axes.spines.top'] = False\n",
    "plt.rcParams['font.size'] = 16\n",
    "import seaborn as sns\n",
    "import sqlite3\n",
    "import os\n",
    "import re\n",
    "FILE_PATHS = [os.path.join(dirname, filename) for dirname, _, filenames in os.walk('/kaggle/input') for filename in filenames]"
   ]
  },
  {
   "cell_type": "code",
   "execution_count": 2,
   "id": "1a7bb2a8",
   "metadata": {
    "execution": {
     "iopub.execute_input": "2024-11-05T13:35:49.972600Z",
     "iopub.status.busy": "2024-11-05T13:35:49.971979Z",
     "iopub.status.idle": "2024-11-05T13:35:49.997496Z",
     "shell.execute_reply": "2024-11-05T13:35:49.996042Z"
    },
    "papermill": {
     "duration": 0.04058,
     "end_time": "2024-11-05T13:35:50.000503",
     "exception": false,
     "start_time": "2024-11-05T13:35:49.959923",
     "status": "completed"
    },
    "tags": []
   },
   "outputs": [],
   "source": [
    "if len(FILE_PATHS)==1:\n",
    "    FILE_PATH = FILE_PATHS[0]\n",
    "    df = pd.read_csv(FILE_PATH)\n",
    "    cols = df.columns.tolist()\n",
    "    df.columns = [col.replace(\" \", \"\") for col in cols]\n",
    "    cols = df.columns.tolist()\n",
    "    df.columns = [re.findall(\"(\\w+)\", col)[0] for col in cols]"
   ]
  },
  {
   "cell_type": "code",
   "execution_count": 3,
   "id": "4eef22e4",
   "metadata": {
    "execution": {
     "iopub.execute_input": "2024-11-05T13:35:50.024679Z",
     "iopub.status.busy": "2024-11-05T13:35:50.024225Z",
     "iopub.status.idle": "2024-11-05T13:35:50.053390Z",
     "shell.execute_reply": "2024-11-05T13:35:50.052093Z"
    },
    "papermill": {
     "duration": 0.044396,
     "end_time": "2024-11-05T13:35:50.056316",
     "exception": false,
     "start_time": "2024-11-05T13:35:50.011920",
     "status": "completed"
    },
    "tags": []
   },
   "outputs": [],
   "source": [
    "#Adding new columns for age group\n",
    "bins = [0, 18, 25, 35, 45, 55, 65, 100]\n",
    "labels = ['Under 18', '18-25', '26-35', '36-45', '46-55', '56-65', '65+']\n",
    "df['Age_Group'] = pd.cut(df['Age'], bins=bins, labels=labels, right=False )\n",
    "\n",
    "# Categorizing the BMI\n",
    "def categorize_bmi(bmi):\n",
    "    if bmi < 18.5:\n",
    "        return 'Underweight'\n",
    "    elif 18.5 <= bmi < 25:\n",
    "        return 'Normal weight'\n",
    "    elif 25 <= bmi < 30:\n",
    "        return 'Overweight'\n",
    "    else:\n",
    "        return 'Obesity'\n",
    "\n",
    "df['Weight_Category'] = df['BMI'].apply(categorize_bmi)"
   ]
  },
  {
   "cell_type": "code",
   "execution_count": 4,
   "id": "774f48e9",
   "metadata": {
    "execution": {
     "iopub.execute_input": "2024-11-05T13:35:50.078765Z",
     "iopub.status.busy": "2024-11-05T13:35:50.078322Z",
     "iopub.status.idle": "2024-11-05T13:35:50.085245Z",
     "shell.execute_reply": "2024-11-05T13:35:50.083977Z"
    },
    "papermill": {
     "duration": 0.021292,
     "end_time": "2024-11-05T13:35:50.087886",
     "exception": false,
     "start_time": "2024-11-05T13:35:50.066594",
     "status": "completed"
    },
    "tags": []
   },
   "outputs": [
    {
     "name": "stdout",
     "output_type": "stream",
     "text": [
      "There are 973 rows and 17 columns in the dataset.\n"
     ]
    }
   ],
   "source": [
    "n_rows, n_cols =  df.shape\n",
    "print(f\"There are {n_rows} rows and {n_cols} columns in the dataset.\")"
   ]
  },
  {
   "cell_type": "code",
   "execution_count": 5,
   "id": "2072fb23",
   "metadata": {
    "execution": {
     "iopub.execute_input": "2024-11-05T13:35:50.110806Z",
     "iopub.status.busy": "2024-11-05T13:35:50.110361Z",
     "iopub.status.idle": "2024-11-05T13:35:50.166682Z",
     "shell.execute_reply": "2024-11-05T13:35:50.165445Z"
    },
    "papermill": {
     "duration": 0.071602,
     "end_time": "2024-11-05T13:35:50.169777",
     "exception": false,
     "start_time": "2024-11-05T13:35:50.098175",
     "status": "completed"
    },
    "tags": []
   },
   "outputs": [
    {
     "data": {
      "text/plain": [
       "973"
      ]
     },
     "execution_count": 5,
     "metadata": {},
     "output_type": "execute_result"
    }
   ],
   "source": [
    "#Converting the dataframe to a sqlite3 file to query the data later using SQL\n",
    "conn = sqlite3.connect('membership.db')\n",
    "df.to_sql('exercise_data', conn, if_exists='replace', index=False)"
   ]
  },
  {
   "cell_type": "code",
   "execution_count": 6,
   "id": "a8afaa7a",
   "metadata": {
    "execution": {
     "iopub.execute_input": "2024-11-05T13:35:50.194331Z",
     "iopub.status.busy": "2024-11-05T13:35:50.193686Z",
     "iopub.status.idle": "2024-11-05T13:35:50.226632Z",
     "shell.execute_reply": "2024-11-05T13:35:50.225419Z"
    },
    "papermill": {
     "duration": 0.048488,
     "end_time": "2024-11-05T13:35:50.229940",
     "exception": false,
     "start_time": "2024-11-05T13:35:50.181452",
     "status": "completed"
    },
    "tags": []
   },
   "outputs": [
    {
     "data": {
      "text/html": [
       "<div>\n",
       "<style scoped>\n",
       "    .dataframe tbody tr th:only-of-type {\n",
       "        vertical-align: middle;\n",
       "    }\n",
       "\n",
       "    .dataframe tbody tr th {\n",
       "        vertical-align: top;\n",
       "    }\n",
       "\n",
       "    .dataframe thead th {\n",
       "        text-align: right;\n",
       "    }\n",
       "</style>\n",
       "<table border=\"1\" class=\"dataframe\">\n",
       "  <thead>\n",
       "    <tr style=\"text-align: right;\">\n",
       "      <th></th>\n",
       "      <th>Age</th>\n",
       "      <th>Gender</th>\n",
       "      <th>Weight</th>\n",
       "      <th>Height</th>\n",
       "      <th>Max_BPM</th>\n",
       "      <th>Avg_BPM</th>\n",
       "      <th>Resting_BPM</th>\n",
       "      <th>Session_Duration</th>\n",
       "      <th>Calories_Burned</th>\n",
       "      <th>Workout_Type</th>\n",
       "      <th>Fat_Percentage</th>\n",
       "      <th>Water_Intake</th>\n",
       "      <th>Workout_Frequency</th>\n",
       "      <th>Experience_Level</th>\n",
       "      <th>BMI</th>\n",
       "      <th>Age_Group</th>\n",
       "      <th>Weight_Category</th>\n",
       "    </tr>\n",
       "  </thead>\n",
       "  <tbody>\n",
       "    <tr>\n",
       "      <th>0</th>\n",
       "      <td>56</td>\n",
       "      <td>Male</td>\n",
       "      <td>88.3</td>\n",
       "      <td>1.71</td>\n",
       "      <td>180</td>\n",
       "      <td>157</td>\n",
       "      <td>60</td>\n",
       "      <td>1.69</td>\n",
       "      <td>1313.0</td>\n",
       "      <td>Yoga</td>\n",
       "      <td>12.6</td>\n",
       "      <td>3.5</td>\n",
       "      <td>4</td>\n",
       "      <td>3</td>\n",
       "      <td>30.20</td>\n",
       "      <td>56-65</td>\n",
       "      <td>Obesity</td>\n",
       "    </tr>\n",
       "    <tr>\n",
       "      <th>1</th>\n",
       "      <td>46</td>\n",
       "      <td>Female</td>\n",
       "      <td>74.9</td>\n",
       "      <td>1.53</td>\n",
       "      <td>179</td>\n",
       "      <td>151</td>\n",
       "      <td>66</td>\n",
       "      <td>1.30</td>\n",
       "      <td>883.0</td>\n",
       "      <td>HIIT</td>\n",
       "      <td>33.9</td>\n",
       "      <td>2.1</td>\n",
       "      <td>4</td>\n",
       "      <td>2</td>\n",
       "      <td>32.00</td>\n",
       "      <td>46-55</td>\n",
       "      <td>Obesity</td>\n",
       "    </tr>\n",
       "    <tr>\n",
       "      <th>2</th>\n",
       "      <td>32</td>\n",
       "      <td>Female</td>\n",
       "      <td>68.1</td>\n",
       "      <td>1.66</td>\n",
       "      <td>167</td>\n",
       "      <td>122</td>\n",
       "      <td>54</td>\n",
       "      <td>1.11</td>\n",
       "      <td>677.0</td>\n",
       "      <td>Cardio</td>\n",
       "      <td>33.4</td>\n",
       "      <td>2.3</td>\n",
       "      <td>4</td>\n",
       "      <td>2</td>\n",
       "      <td>24.71</td>\n",
       "      <td>26-35</td>\n",
       "      <td>Normal weight</td>\n",
       "    </tr>\n",
       "    <tr>\n",
       "      <th>3</th>\n",
       "      <td>25</td>\n",
       "      <td>Male</td>\n",
       "      <td>53.2</td>\n",
       "      <td>1.70</td>\n",
       "      <td>190</td>\n",
       "      <td>164</td>\n",
       "      <td>56</td>\n",
       "      <td>0.59</td>\n",
       "      <td>532.0</td>\n",
       "      <td>Strength</td>\n",
       "      <td>28.8</td>\n",
       "      <td>2.1</td>\n",
       "      <td>3</td>\n",
       "      <td>1</td>\n",
       "      <td>18.41</td>\n",
       "      <td>26-35</td>\n",
       "      <td>Underweight</td>\n",
       "    </tr>\n",
       "    <tr>\n",
       "      <th>4</th>\n",
       "      <td>38</td>\n",
       "      <td>Male</td>\n",
       "      <td>46.1</td>\n",
       "      <td>1.79</td>\n",
       "      <td>188</td>\n",
       "      <td>158</td>\n",
       "      <td>68</td>\n",
       "      <td>0.64</td>\n",
       "      <td>556.0</td>\n",
       "      <td>Strength</td>\n",
       "      <td>29.2</td>\n",
       "      <td>2.8</td>\n",
       "      <td>3</td>\n",
       "      <td>1</td>\n",
       "      <td>14.39</td>\n",
       "      <td>36-45</td>\n",
       "      <td>Underweight</td>\n",
       "    </tr>\n",
       "  </tbody>\n",
       "</table>\n",
       "</div>"
      ],
      "text/plain": [
       "   Age  Gender  Weight  Height  Max_BPM  Avg_BPM  Resting_BPM  \\\n",
       "0   56    Male    88.3    1.71      180      157           60   \n",
       "1   46  Female    74.9    1.53      179      151           66   \n",
       "2   32  Female    68.1    1.66      167      122           54   \n",
       "3   25    Male    53.2    1.70      190      164           56   \n",
       "4   38    Male    46.1    1.79      188      158           68   \n",
       "\n",
       "   Session_Duration  Calories_Burned Workout_Type  Fat_Percentage  \\\n",
       "0              1.69           1313.0         Yoga            12.6   \n",
       "1              1.30            883.0         HIIT            33.9   \n",
       "2              1.11            677.0       Cardio            33.4   \n",
       "3              0.59            532.0     Strength            28.8   \n",
       "4              0.64            556.0     Strength            29.2   \n",
       "\n",
       "   Water_Intake  Workout_Frequency  Experience_Level    BMI Age_Group  \\\n",
       "0           3.5                  4                 3  30.20     56-65   \n",
       "1           2.1                  4                 2  32.00     46-55   \n",
       "2           2.3                  4                 2  24.71     26-35   \n",
       "3           2.1                  3                 1  18.41     26-35   \n",
       "4           2.8                  3                 1  14.39     36-45   \n",
       "\n",
       "  Weight_Category  \n",
       "0         Obesity  \n",
       "1         Obesity  \n",
       "2   Normal weight  \n",
       "3     Underweight  \n",
       "4     Underweight  "
      ]
     },
     "execution_count": 6,
     "metadata": {},
     "output_type": "execute_result"
    }
   ],
   "source": [
    "df.head()"
   ]
  },
  {
   "cell_type": "code",
   "execution_count": 7,
   "id": "25189346",
   "metadata": {
    "execution": {
     "iopub.execute_input": "2024-11-05T13:35:50.254352Z",
     "iopub.status.busy": "2024-11-05T13:35:50.253875Z",
     "iopub.status.idle": "2024-11-05T13:35:50.263426Z",
     "shell.execute_reply": "2024-11-05T13:35:50.262053Z"
    },
    "papermill": {
     "duration": 0.024536,
     "end_time": "2024-11-05T13:35:50.266149",
     "exception": false,
     "start_time": "2024-11-05T13:35:50.241613",
     "status": "completed"
    },
    "tags": []
   },
   "outputs": [
    {
     "data": {
      "text/plain": [
       "Age                     int64\n",
       "Gender                 object\n",
       "Weight                float64\n",
       "Height                float64\n",
       "Max_BPM                 int64\n",
       "Avg_BPM                 int64\n",
       "Resting_BPM             int64\n",
       "Session_Duration      float64\n",
       "Calories_Burned       float64\n",
       "Workout_Type           object\n",
       "Fat_Percentage        float64\n",
       "Water_Intake          float64\n",
       "Workout_Frequency       int64\n",
       "Experience_Level        int64\n",
       "BMI                   float64\n",
       "Age_Group            category\n",
       "Weight_Category        object\n",
       "dtype: object"
      ]
     },
     "execution_count": 7,
     "metadata": {},
     "output_type": "execute_result"
    }
   ],
   "source": [
    "#Datatypes of various columns\n",
    "df.dtypes"
   ]
  },
  {
   "cell_type": "code",
   "execution_count": 8,
   "id": "198a699d",
   "metadata": {
    "execution": {
     "iopub.execute_input": "2024-11-05T13:35:50.293161Z",
     "iopub.status.busy": "2024-11-05T13:35:50.292710Z",
     "iopub.status.idle": "2024-11-05T13:35:50.356126Z",
     "shell.execute_reply": "2024-11-05T13:35:50.354683Z"
    },
    "papermill": {
     "duration": 0.079795,
     "end_time": "2024-11-05T13:35:50.358919",
     "exception": false,
     "start_time": "2024-11-05T13:35:50.279124",
     "status": "completed"
    },
    "tags": []
   },
   "outputs": [
    {
     "data": {
      "text/html": [
       "<div>\n",
       "<style scoped>\n",
       "    .dataframe tbody tr th:only-of-type {\n",
       "        vertical-align: middle;\n",
       "    }\n",
       "\n",
       "    .dataframe tbody tr th {\n",
       "        vertical-align: top;\n",
       "    }\n",
       "\n",
       "    .dataframe thead th {\n",
       "        text-align: right;\n",
       "    }\n",
       "</style>\n",
       "<table border=\"1\" class=\"dataframe\">\n",
       "  <thead>\n",
       "    <tr style=\"text-align: right;\">\n",
       "      <th></th>\n",
       "      <th>count</th>\n",
       "      <th>mean</th>\n",
       "      <th>std</th>\n",
       "      <th>min</th>\n",
       "      <th>25%</th>\n",
       "      <th>50%</th>\n",
       "      <th>75%</th>\n",
       "      <th>max</th>\n",
       "    </tr>\n",
       "  </thead>\n",
       "  <tbody>\n",
       "    <tr>\n",
       "      <th>Age</th>\n",
       "      <td>973.0</td>\n",
       "      <td>38.68</td>\n",
       "      <td>12.18</td>\n",
       "      <td>18.00</td>\n",
       "      <td>28.00</td>\n",
       "      <td>40.00</td>\n",
       "      <td>49.00</td>\n",
       "      <td>59.00</td>\n",
       "    </tr>\n",
       "    <tr>\n",
       "      <th>Weight</th>\n",
       "      <td>973.0</td>\n",
       "      <td>73.85</td>\n",
       "      <td>21.21</td>\n",
       "      <td>40.00</td>\n",
       "      <td>58.10</td>\n",
       "      <td>70.00</td>\n",
       "      <td>86.00</td>\n",
       "      <td>129.90</td>\n",
       "    </tr>\n",
       "    <tr>\n",
       "      <th>Height</th>\n",
       "      <td>973.0</td>\n",
       "      <td>1.72</td>\n",
       "      <td>0.13</td>\n",
       "      <td>1.50</td>\n",
       "      <td>1.62</td>\n",
       "      <td>1.71</td>\n",
       "      <td>1.80</td>\n",
       "      <td>2.00</td>\n",
       "    </tr>\n",
       "    <tr>\n",
       "      <th>Max_BPM</th>\n",
       "      <td>973.0</td>\n",
       "      <td>179.88</td>\n",
       "      <td>11.53</td>\n",
       "      <td>160.00</td>\n",
       "      <td>170.00</td>\n",
       "      <td>180.00</td>\n",
       "      <td>190.00</td>\n",
       "      <td>199.00</td>\n",
       "    </tr>\n",
       "    <tr>\n",
       "      <th>Avg_BPM</th>\n",
       "      <td>973.0</td>\n",
       "      <td>143.77</td>\n",
       "      <td>14.35</td>\n",
       "      <td>120.00</td>\n",
       "      <td>131.00</td>\n",
       "      <td>143.00</td>\n",
       "      <td>156.00</td>\n",
       "      <td>169.00</td>\n",
       "    </tr>\n",
       "    <tr>\n",
       "      <th>Resting_BPM</th>\n",
       "      <td>973.0</td>\n",
       "      <td>62.22</td>\n",
       "      <td>7.33</td>\n",
       "      <td>50.00</td>\n",
       "      <td>56.00</td>\n",
       "      <td>62.00</td>\n",
       "      <td>68.00</td>\n",
       "      <td>74.00</td>\n",
       "    </tr>\n",
       "    <tr>\n",
       "      <th>Session_Duration</th>\n",
       "      <td>973.0</td>\n",
       "      <td>1.26</td>\n",
       "      <td>0.34</td>\n",
       "      <td>0.50</td>\n",
       "      <td>1.04</td>\n",
       "      <td>1.26</td>\n",
       "      <td>1.46</td>\n",
       "      <td>2.00</td>\n",
       "    </tr>\n",
       "    <tr>\n",
       "      <th>Calories_Burned</th>\n",
       "      <td>973.0</td>\n",
       "      <td>905.42</td>\n",
       "      <td>272.64</td>\n",
       "      <td>303.00</td>\n",
       "      <td>720.00</td>\n",
       "      <td>893.00</td>\n",
       "      <td>1076.00</td>\n",
       "      <td>1783.00</td>\n",
       "    </tr>\n",
       "    <tr>\n",
       "      <th>Fat_Percentage</th>\n",
       "      <td>973.0</td>\n",
       "      <td>24.98</td>\n",
       "      <td>6.26</td>\n",
       "      <td>10.00</td>\n",
       "      <td>21.30</td>\n",
       "      <td>26.20</td>\n",
       "      <td>29.30</td>\n",
       "      <td>35.00</td>\n",
       "    </tr>\n",
       "    <tr>\n",
       "      <th>Water_Intake</th>\n",
       "      <td>973.0</td>\n",
       "      <td>2.63</td>\n",
       "      <td>0.60</td>\n",
       "      <td>1.50</td>\n",
       "      <td>2.20</td>\n",
       "      <td>2.60</td>\n",
       "      <td>3.10</td>\n",
       "      <td>3.70</td>\n",
       "    </tr>\n",
       "    <tr>\n",
       "      <th>Workout_Frequency</th>\n",
       "      <td>973.0</td>\n",
       "      <td>3.32</td>\n",
       "      <td>0.91</td>\n",
       "      <td>2.00</td>\n",
       "      <td>3.00</td>\n",
       "      <td>3.00</td>\n",
       "      <td>4.00</td>\n",
       "      <td>5.00</td>\n",
       "    </tr>\n",
       "    <tr>\n",
       "      <th>Experience_Level</th>\n",
       "      <td>973.0</td>\n",
       "      <td>1.81</td>\n",
       "      <td>0.74</td>\n",
       "      <td>1.00</td>\n",
       "      <td>1.00</td>\n",
       "      <td>2.00</td>\n",
       "      <td>2.00</td>\n",
       "      <td>3.00</td>\n",
       "    </tr>\n",
       "    <tr>\n",
       "      <th>BMI</th>\n",
       "      <td>973.0</td>\n",
       "      <td>24.91</td>\n",
       "      <td>6.66</td>\n",
       "      <td>12.32</td>\n",
       "      <td>20.11</td>\n",
       "      <td>24.16</td>\n",
       "      <td>28.56</td>\n",
       "      <td>49.84</td>\n",
       "    </tr>\n",
       "  </tbody>\n",
       "</table>\n",
       "</div>"
      ],
      "text/plain": [
       "                   count    mean     std     min     25%     50%      75%  \\\n",
       "Age                973.0   38.68   12.18   18.00   28.00   40.00    49.00   \n",
       "Weight             973.0   73.85   21.21   40.00   58.10   70.00    86.00   \n",
       "Height             973.0    1.72    0.13    1.50    1.62    1.71     1.80   \n",
       "Max_BPM            973.0  179.88   11.53  160.00  170.00  180.00   190.00   \n",
       "Avg_BPM            973.0  143.77   14.35  120.00  131.00  143.00   156.00   \n",
       "Resting_BPM        973.0   62.22    7.33   50.00   56.00   62.00    68.00   \n",
       "Session_Duration   973.0    1.26    0.34    0.50    1.04    1.26     1.46   \n",
       "Calories_Burned    973.0  905.42  272.64  303.00  720.00  893.00  1076.00   \n",
       "Fat_Percentage     973.0   24.98    6.26   10.00   21.30   26.20    29.30   \n",
       "Water_Intake       973.0    2.63    0.60    1.50    2.20    2.60     3.10   \n",
       "Workout_Frequency  973.0    3.32    0.91    2.00    3.00    3.00     4.00   \n",
       "Experience_Level   973.0    1.81    0.74    1.00    1.00    2.00     2.00   \n",
       "BMI                973.0   24.91    6.66   12.32   20.11   24.16    28.56   \n",
       "\n",
       "                       max  \n",
       "Age                  59.00  \n",
       "Weight              129.90  \n",
       "Height                2.00  \n",
       "Max_BPM             199.00  \n",
       "Avg_BPM             169.00  \n",
       "Resting_BPM          74.00  \n",
       "Session_Duration      2.00  \n",
       "Calories_Burned    1783.00  \n",
       "Fat_Percentage       35.00  \n",
       "Water_Intake          3.70  \n",
       "Workout_Frequency     5.00  \n",
       "Experience_Level      3.00  \n",
       "BMI                  49.84  "
      ]
     },
     "execution_count": 8,
     "metadata": {},
     "output_type": "execute_result"
    }
   ],
   "source": [
    "#Some basic stats about the columns\n",
    "df.describe().T.apply(lambda x: round(x,2))"
   ]
  },
  {
   "cell_type": "code",
   "execution_count": 9,
   "id": "5de8eb24",
   "metadata": {
    "execution": {
     "iopub.execute_input": "2024-11-05T13:35:50.385000Z",
     "iopub.status.busy": "2024-11-05T13:35:50.383869Z",
     "iopub.status.idle": "2024-11-05T13:35:50.415870Z",
     "shell.execute_reply": "2024-11-05T13:35:50.414636Z"
    },
    "papermill": {
     "duration": 0.048492,
     "end_time": "2024-11-05T13:35:50.418817",
     "exception": false,
     "start_time": "2024-11-05T13:35:50.370325",
     "status": "completed"
    },
    "tags": []
   },
   "outputs": [
    {
     "name": "stdout",
     "output_type": "stream",
     "text": [
      "<class 'pandas.core.frame.DataFrame'>\n",
      "RangeIndex: 973 entries, 0 to 972\n",
      "Data columns (total 17 columns):\n",
      " #   Column             Non-Null Count  Dtype   \n",
      "---  ------             --------------  -----   \n",
      " 0   Age                973 non-null    int64   \n",
      " 1   Gender             973 non-null    object  \n",
      " 2   Weight             973 non-null    float64 \n",
      " 3   Height             973 non-null    float64 \n",
      " 4   Max_BPM            973 non-null    int64   \n",
      " 5   Avg_BPM            973 non-null    int64   \n",
      " 6   Resting_BPM        973 non-null    int64   \n",
      " 7   Session_Duration   973 non-null    float64 \n",
      " 8   Calories_Burned    973 non-null    float64 \n",
      " 9   Workout_Type       973 non-null    object  \n",
      " 10  Fat_Percentage     973 non-null    float64 \n",
      " 11  Water_Intake       973 non-null    float64 \n",
      " 12  Workout_Frequency  973 non-null    int64   \n",
      " 13  Experience_Level   973 non-null    int64   \n",
      " 14  BMI                973 non-null    float64 \n",
      " 15  Age_Group          973 non-null    category\n",
      " 16  Weight_Category    973 non-null    object  \n",
      "dtypes: category(1), float64(7), int64(6), object(3)\n",
      "memory usage: 123.0+ KB\n"
     ]
    }
   ],
   "source": [
    "#Getting the data type and non null count\n",
    "df.info()"
   ]
  },
  {
   "cell_type": "code",
   "execution_count": 10,
   "id": "435019fd",
   "metadata": {
    "execution": {
     "iopub.execute_input": "2024-11-05T13:35:50.444745Z",
     "iopub.status.busy": "2024-11-05T13:35:50.444289Z",
     "iopub.status.idle": "2024-11-05T13:35:50.455622Z",
     "shell.execute_reply": "2024-11-05T13:35:50.454418Z"
    },
    "papermill": {
     "duration": 0.027901,
     "end_time": "2024-11-05T13:35:50.458163",
     "exception": false,
     "start_time": "2024-11-05T13:35:50.430262",
     "status": "completed"
    },
    "tags": []
   },
   "outputs": [
    {
     "data": {
      "text/plain": [
       "Age                  0\n",
       "Gender               0\n",
       "Weight               0\n",
       "Height               0\n",
       "Max_BPM              0\n",
       "Avg_BPM              0\n",
       "Resting_BPM          0\n",
       "Session_Duration     0\n",
       "Calories_Burned      0\n",
       "Workout_Type         0\n",
       "Fat_Percentage       0\n",
       "Water_Intake         0\n",
       "Workout_Frequency    0\n",
       "Experience_Level     0\n",
       "BMI                  0\n",
       "Age_Group            0\n",
       "Weight_Category      0\n",
       "dtype: int64"
      ]
     },
     "execution_count": 10,
     "metadata": {},
     "output_type": "execute_result"
    }
   ],
   "source": [
    "#finding out if there are any null values\n",
    "df.isnull().sum()"
   ]
  },
  {
   "cell_type": "markdown",
   "id": "526fcdf9",
   "metadata": {
    "papermill": {
     "duration": 0.012114,
     "end_time": "2024-11-05T13:35:50.482539",
     "exception": false,
     "start_time": "2024-11-05T13:35:50.470425",
     "status": "completed"
    },
    "tags": []
   },
   "source": [
    "## EDA"
   ]
  },
  {
   "cell_type": "code",
   "execution_count": 11,
   "id": "ff9716f4",
   "metadata": {
    "execution": {
     "iopub.execute_input": "2024-11-05T13:35:50.509068Z",
     "iopub.status.busy": "2024-11-05T13:35:50.508267Z",
     "iopub.status.idle": "2024-11-05T13:35:50.522271Z",
     "shell.execute_reply": "2024-11-05T13:35:50.520862Z"
    },
    "papermill": {
     "duration": 0.029702,
     "end_time": "2024-11-05T13:35:50.524917",
     "exception": false,
     "start_time": "2024-11-05T13:35:50.495215",
     "status": "completed"
    },
    "tags": []
   },
   "outputs": [
    {
     "data": {
      "text/html": [
       "<div>\n",
       "<style scoped>\n",
       "    .dataframe tbody tr th:only-of-type {\n",
       "        vertical-align: middle;\n",
       "    }\n",
       "\n",
       "    .dataframe tbody tr th {\n",
       "        vertical-align: top;\n",
       "    }\n",
       "\n",
       "    .dataframe thead th {\n",
       "        text-align: right;\n",
       "    }\n",
       "</style>\n",
       "<table border=\"1\" class=\"dataframe\">\n",
       "  <thead>\n",
       "    <tr style=\"text-align: right;\">\n",
       "      <th></th>\n",
       "      <th>Workout_Type</th>\n",
       "      <th>member_pct</th>\n",
       "    </tr>\n",
       "  </thead>\n",
       "  <tbody>\n",
       "    <tr>\n",
       "      <th>0</th>\n",
       "      <td>Strength</td>\n",
       "      <td>26.52</td>\n",
       "    </tr>\n",
       "    <tr>\n",
       "      <th>1</th>\n",
       "      <td>Cardio</td>\n",
       "      <td>26.21</td>\n",
       "    </tr>\n",
       "    <tr>\n",
       "      <th>2</th>\n",
       "      <td>Yoga</td>\n",
       "      <td>24.56</td>\n",
       "    </tr>\n",
       "    <tr>\n",
       "      <th>3</th>\n",
       "      <td>HIIT</td>\n",
       "      <td>22.71</td>\n",
       "    </tr>\n",
       "  </tbody>\n",
       "</table>\n",
       "</div>"
      ],
      "text/plain": [
       "  Workout_Type  member_pct\n",
       "0     Strength       26.52\n",
       "1       Cardio       26.21\n",
       "2         Yoga       24.56\n",
       "3         HIIT       22.71"
      ]
     },
     "execution_count": 11,
     "metadata": {},
     "output_type": "execute_result"
    }
   ],
   "source": [
    "query = '''\n",
    "select Workout_Type, \n",
    "       round(count(*)*100.0/(select count(*) from exercise_data),2) as member_pct\n",
    "from exercise_data \n",
    "group by Workout_Type \n",
    "order by member_pct desc\n",
    "'''\n",
    "Workout_Type = pd.read_sql(query, conn)\n",
    "Workout_Type"
   ]
  },
  {
   "cell_type": "markdown",
   "id": "28820ed4",
   "metadata": {
    "papermill": {
     "duration": 0.011708,
     "end_time": "2024-11-05T13:35:50.548473",
     "exception": false,
     "start_time": "2024-11-05T13:35:50.536765",
     "status": "completed"
    },
    "tags": []
   },
   "source": [
    "- Observation : Most of the people (26.52%) like to do strength training\n",
    "- So what? : <span style=\" color: #0000FF;\">People are focussed on building muscle rathen than just focussing on looking lean</span>\n",
    "- Action : There should be more equipment that targets building muscle."
   ]
  },
  {
   "cell_type": "code",
   "execution_count": 12,
   "id": "82d38244",
   "metadata": {
    "execution": {
     "iopub.execute_input": "2024-11-05T13:35:50.573955Z",
     "iopub.status.busy": "2024-11-05T13:35:50.573540Z",
     "iopub.status.idle": "2024-11-05T13:35:50.587579Z",
     "shell.execute_reply": "2024-11-05T13:35:50.586254Z"
    },
    "papermill": {
     "duration": 0.030181,
     "end_time": "2024-11-05T13:35:50.590455",
     "exception": false,
     "start_time": "2024-11-05T13:35:50.560274",
     "status": "completed"
    },
    "tags": []
   },
   "outputs": [
    {
     "data": {
      "text/html": [
       "<div>\n",
       "<style scoped>\n",
       "    .dataframe tbody tr th:only-of-type {\n",
       "        vertical-align: middle;\n",
       "    }\n",
       "\n",
       "    .dataframe tbody tr th {\n",
       "        vertical-align: top;\n",
       "    }\n",
       "\n",
       "    .dataframe thead th {\n",
       "        text-align: right;\n",
       "    }\n",
       "</style>\n",
       "<table border=\"1\" class=\"dataframe\">\n",
       "  <thead>\n",
       "    <tr style=\"text-align: right;\">\n",
       "      <th></th>\n",
       "      <th>Gender</th>\n",
       "      <th>member_pct</th>\n",
       "    </tr>\n",
       "  </thead>\n",
       "  <tbody>\n",
       "    <tr>\n",
       "      <th>0</th>\n",
       "      <td>Male</td>\n",
       "      <td>52.52</td>\n",
       "    </tr>\n",
       "    <tr>\n",
       "      <th>1</th>\n",
       "      <td>Female</td>\n",
       "      <td>47.48</td>\n",
       "    </tr>\n",
       "  </tbody>\n",
       "</table>\n",
       "</div>"
      ],
      "text/plain": [
       "   Gender  member_pct\n",
       "0    Male       52.52\n",
       "1  Female       47.48"
      ]
     },
     "execution_count": 12,
     "metadata": {},
     "output_type": "execute_result"
    }
   ],
   "source": [
    "query = '''\n",
    "select Gender, \n",
    "       round(count(*)*100.0/(select count(*) from exercise_data),2) as member_pct\n",
    "from exercise_data \n",
    "group by Gender \n",
    "order by member_pct desc\n",
    "'''\n",
    "Gender = pd.read_sql(query, conn)\n",
    "Gender"
   ]
  },
  {
   "cell_type": "markdown",
   "id": "f5708072",
   "metadata": {
    "papermill": {
     "duration": 0.011789,
     "end_time": "2024-11-05T13:35:50.614482",
     "exception": false,
     "start_time": "2024-11-05T13:35:50.602693",
     "status": "completed"
    },
    "tags": []
   },
   "source": [
    "- Observation : Males are likely (52.52%) to join gym. The data indicates that males make up a slightly higher percentage of gym-goers compared to females.\n",
    "- So what? : <span style=\" color: #0000FF;\">The higher percentage of males in the gym may suggest that males prioritize fitness and health more than females in this context.</span>  This could reflect societal norms or cultural factors that encourage males to engage more actively in fitness activities.\n",
    "- Action : Given that males already constitute a larger portion of gym members, it would make sense to develop strategies aimed at attracting more female members. This could include tailored marketing, female-specific classes, or creating a more welcoming environment for women.\n",
    "\n",
    "While males currently represent 52.52%, this figure is not overwhelmingly high. The potential for growth in female membership could be more significant if the right strategies are implemented, especially if female engagement is low."
   ]
  },
  {
   "cell_type": "code",
   "execution_count": 13,
   "id": "5d1d305a",
   "metadata": {
    "execution": {
     "iopub.execute_input": "2024-11-05T13:35:50.642257Z",
     "iopub.status.busy": "2024-11-05T13:35:50.641810Z",
     "iopub.status.idle": "2024-11-05T13:35:51.102044Z",
     "shell.execute_reply": "2024-11-05T13:35:51.100730Z"
    },
    "papermill": {
     "duration": 0.478322,
     "end_time": "2024-11-05T13:35:51.105274",
     "exception": false,
     "start_time": "2024-11-05T13:35:50.626952",
     "status": "completed"
    },
    "tags": []
   },
   "outputs": [
    {
     "data": {
      "image/png": "[encoded data removed]",
      "text/plain": [
       "<Figure size 2000x500 with 1 Axes>"
      ]
     },
     "metadata": {},
     "output_type": "display_data"
    }
   ],
   "source": [
    "query = '''\n",
    "select Workout_Type, \n",
    "        round(sum(case when Gender='Male' then 1 else 0 end)*100.0/(select count(*) from exercise_data),2) as Male,\n",
    "        round(sum(case when Gender='Female' then 1 else 0 end)*100.0/(select count(*) from exercise_data),2) as Female  \n",
    "from exercise_data \n",
    "group by Workout_Type\n",
    "order by Workout_Type\n",
    "'''\n",
    "pivot = pd.read_sql(query, conn)\n",
    "pivot.set_index('Workout_Type').plot(kind='bar')\n",
    "plt.title('Workout Type Preference of each gender')\n",
    "plt.ylabel('Percent')\n",
    "plt.xticks(rotation=0)\n",
    "plt.show()"
   ]
  },
  {
   "cell_type": "markdown",
   "id": "1f08967b",
   "metadata": {
    "papermill": {
     "duration": 0.012576,
     "end_time": "2024-11-05T13:35:51.130808",
     "exception": false,
     "start_time": "2024-11-05T13:35:51.118232",
     "status": "completed"
    },
    "tags": []
   },
   "source": [
    "Observation\n",
    "\n",
    "- Cardio is the most popular workout type for both genders.\n",
    "- Males show a stronger preference for strength training, while yoga is less popular overall.\n",
    "\n",
    "So What?\n",
    "\n",
    "- <span style=\" color: #0000FF;\">Cardio presents a key marketing opportunity to attract diverse members.</span> Strength training requires targeted marketing to engage males effectively, and yoga needs improvement to increase participation.\n",
    "\n",
    "Action\n",
    "\n",
    "- Promote cardio programs through targeted campaigns.\n",
    "- Market strength training to males with success stories and competitions.\n",
    "- Revamp yoga offerings to make them more appealing."
   ]
  },
  {
   "cell_type": "code",
   "execution_count": 14,
   "id": "43ae367c",
   "metadata": {
    "execution": {
     "iopub.execute_input": "2024-11-05T13:35:51.159779Z",
     "iopub.status.busy": "2024-11-05T13:35:51.159360Z",
     "iopub.status.idle": "2024-11-05T13:35:51.174711Z",
     "shell.execute_reply": "2024-11-05T13:35:51.173286Z"
    },
    "papermill": {
     "duration": 0.032885,
     "end_time": "2024-11-05T13:35:51.177505",
     "exception": false,
     "start_time": "2024-11-05T13:35:51.144620",
     "status": "completed"
    },
    "tags": []
   },
   "outputs": [
    {
     "data": {
      "text/html": [
       "<div>\n",
       "<style scoped>\n",
       "    .dataframe tbody tr th:only-of-type {\n",
       "        vertical-align: middle;\n",
       "    }\n",
       "\n",
       "    .dataframe tbody tr th {\n",
       "        vertical-align: top;\n",
       "    }\n",
       "\n",
       "    .dataframe thead th {\n",
       "        text-align: right;\n",
       "    }\n",
       "</style>\n",
       "<table border=\"1\" class=\"dataframe\">\n",
       "  <thead>\n",
       "    <tr style=\"text-align: right;\">\n",
       "      <th></th>\n",
       "      <th>Age_Group</th>\n",
       "      <th>member_pct</th>\n",
       "    </tr>\n",
       "  </thead>\n",
       "  <tbody>\n",
       "    <tr>\n",
       "      <th>0</th>\n",
       "      <td>46-55</td>\n",
       "      <td>26.10</td>\n",
       "    </tr>\n",
       "    <tr>\n",
       "      <th>1</th>\n",
       "      <td>36-45</td>\n",
       "      <td>23.43</td>\n",
       "    </tr>\n",
       "    <tr>\n",
       "      <th>2</th>\n",
       "      <td>26-35</td>\n",
       "      <td>22.61</td>\n",
       "    </tr>\n",
       "    <tr>\n",
       "      <th>3</th>\n",
       "      <td>18-25</td>\n",
       "      <td>16.96</td>\n",
       "    </tr>\n",
       "    <tr>\n",
       "      <th>4</th>\n",
       "      <td>56-65</td>\n",
       "      <td>10.89</td>\n",
       "    </tr>\n",
       "  </tbody>\n",
       "</table>\n",
       "</div>"
      ],
      "text/plain": [
       "  Age_Group  member_pct\n",
       "0     46-55       26.10\n",
       "1     36-45       23.43\n",
       "2     26-35       22.61\n",
       "3     18-25       16.96\n",
       "4     56-65       10.89"
      ]
     },
     "execution_count": 14,
     "metadata": {},
     "output_type": "execute_result"
    }
   ],
   "source": [
    "query = '''\n",
    "select Age_Group, \n",
    "       round(count(*)*100.0/(select count(*) from exercise_data),2) as member_pct\n",
    "from exercise_data \n",
    "group by Age_Group \n",
    "order by member_pct desc\n",
    "'''\n",
    "Age_Group = pd.read_sql(query, conn)\n",
    "Age_Group"
   ]
  },
  {
   "cell_type": "code",
   "execution_count": 15,
   "id": "a255a4e6",
   "metadata": {
    "execution": {
     "iopub.execute_input": "2024-11-05T13:35:51.207933Z",
     "iopub.status.busy": "2024-11-05T13:35:51.207534Z",
     "iopub.status.idle": "2024-11-05T13:35:51.222057Z",
     "shell.execute_reply": "2024-11-05T13:35:51.220955Z"
    },
    "papermill": {
     "duration": 0.033649,
     "end_time": "2024-11-05T13:35:51.224728",
     "exception": false,
     "start_time": "2024-11-05T13:35:51.191079",
     "status": "completed"
    },
    "tags": []
   },
   "outputs": [
    {
     "data": {
      "text/html": [
       "<div>\n",
       "<style scoped>\n",
       "    .dataframe tbody tr th:only-of-type {\n",
       "        vertical-align: middle;\n",
       "    }\n",
       "\n",
       "    .dataframe tbody tr th {\n",
       "        vertical-align: top;\n",
       "    }\n",
       "\n",
       "    .dataframe thead th {\n",
       "        text-align: right;\n",
       "    }\n",
       "</style>\n",
       "<table border=\"1\" class=\"dataframe\">\n",
       "  <thead>\n",
       "    <tr style=\"text-align: right;\">\n",
       "      <th></th>\n",
       "      <th>Age</th>\n",
       "      <th>Workout_Type</th>\n",
       "      <th>member_pct</th>\n",
       "    </tr>\n",
       "  </thead>\n",
       "  <tbody>\n",
       "    <tr>\n",
       "      <th>0</th>\n",
       "      <td>46-55</td>\n",
       "      <td>Strength</td>\n",
       "      <td>6.78</td>\n",
       "    </tr>\n",
       "    <tr>\n",
       "      <th>1</th>\n",
       "      <td>46-55</td>\n",
       "      <td>HIIT</td>\n",
       "      <td>6.78</td>\n",
       "    </tr>\n",
       "    <tr>\n",
       "      <th>2</th>\n",
       "      <td>46-55</td>\n",
       "      <td>Yoga</td>\n",
       "      <td>6.37</td>\n",
       "    </tr>\n",
       "    <tr>\n",
       "      <th>3</th>\n",
       "      <td>46-55</td>\n",
       "      <td>Cardio</td>\n",
       "      <td>6.17</td>\n",
       "    </tr>\n",
       "  </tbody>\n",
       "</table>\n",
       "</div>"
      ],
      "text/plain": [
       "     Age Workout_Type  member_pct\n",
       "0  46-55     Strength        6.78\n",
       "1  46-55         HIIT        6.78\n",
       "2  46-55         Yoga        6.37\n",
       "3  46-55       Cardio        6.17"
      ]
     },
     "execution_count": 15,
     "metadata": {},
     "output_type": "execute_result"
    }
   ],
   "source": [
    "query = '''\n",
    "select '46-55' as Age, Workout_Type, \n",
    "       round(count(*)*100.0/(select count(*) from exercise_data),2) as member_pct\n",
    "from exercise_data\n",
    "where Age_Group = '46-55'\n",
    "group by Workout_Type \n",
    "order by member_pct desc\n",
    "'''\n",
    "Workout_Type_Age = pd.read_sql(query, conn)\n",
    "Workout_Type_Age"
   ]
  },
  {
   "cell_type": "markdown",
   "id": "bcbd30f3",
   "metadata": {
    "papermill": {
     "duration": 0.012914,
     "end_time": "2024-11-05T13:35:51.250913",
     "exception": false,
     "start_time": "2024-11-05T13:35:51.237999",
     "status": "completed"
    },
    "tags": []
   },
   "source": [
    "- Observation :  Most members (26.10%) are in the 46-55 age group, and they prefer both Strength and HIIT training.\n",
    "- So what? : <span style=\" color: #0000FF;\">Individuals in the age group 46-55 are increasingly focused on health and fitness</span> , seeking ways to build muscle, which can enhance metabolism and improve overall well-being.\n",
    "- Action : Target marketing efforts towards the 46-55 age group by enhancing gym offerings, including more strength training machines and HIIT classes. Implement marketing schemes and promotions tailored specifically for this demographic to encourage sign-ups and engagement.\n",
    "\n",
    "**Additional Consideration**\n",
    "\n",
    "The gym can also consider mentioning the potential for retaining this age group by offering classes or workshops that educate them on the benefits of strength training and HIIT, further emphasizing their importance in a well-rounded fitness routine."
   ]
  },
  {
   "cell_type": "code",
   "execution_count": 16,
   "id": "8e96b822",
   "metadata": {
    "execution": {
     "iopub.execute_input": "2024-11-05T13:35:51.278869Z",
     "iopub.status.busy": "2024-11-05T13:35:51.278461Z",
     "iopub.status.idle": "2024-11-05T13:35:51.726731Z",
     "shell.execute_reply": "2024-11-05T13:35:51.725364Z"
    },
    "papermill": {
     "duration": 0.466012,
     "end_time": "2024-11-05T13:35:51.730137",
     "exception": false,
     "start_time": "2024-11-05T13:35:51.264125",
     "status": "completed"
    },
    "tags": []
   },
   "outputs": [
    {
     "data": {
      "image/png": "[encoded data removed]",
      "text/plain": [
       "<Figure size 2000x500 with 1 Axes>"
      ]
     },
     "metadata": {},
     "output_type": "display_data"
    }
   ],
   "source": [
    "Experience_Level = round((df.pivot_table(index='Age_Group', columns='Experience_Level', aggfunc='size', fill_value=0)/len(df)*100),2)\\\n",
    "                                .reset_index().rename_axis(columns=None)\n",
    "Experience_Level.set_index('Age_Group').plot(kind='bar')\n",
    "plt.title('Age Group Wise Distribution of various experienced members')\n",
    "plt.ylabel('Percent')\n",
    "plt.xticks(rotation=0)\n",
    "plt.show()"
   ]
  },
  {
   "cell_type": "markdown",
   "id": "66994e2d",
   "metadata": {
    "papermill": {
     "duration": 0.013694,
     "end_time": "2024-11-05T13:35:51.759149",
     "exception": false,
     "start_time": "2024-11-05T13:35:51.745455",
     "status": "completed"
    },
    "tags": []
   },
   "source": [
    "Observation\n",
    "\n",
    "- The age group 46-55 has the highest percentages across all experience levels (1, 2, and 3 years), indicating a significant presence in the gym.\n",
    "- The 36-45 and 26-35 age groups also show considerable percentages, making them notable demographics as well.\n",
    "\n",
    "So What?\n",
    "\n",
    "- <span style=\" color: #0000FF;\">The strong representation of individuals aged 46-55 across varying experience levels suggests they are actively engaged in fitness</span>. This demographic is likely looking for tailored programs that meet their specific health and fitness needs.\n",
    "- Additionally, the presence of members aged 26-45 indicates a broader target market for gym services, highlighting the importance of addressing the needs of a wide range of age groups.\n",
    "\n",
    "Action\n",
    "\n",
    "- Focus marketing efforts on the 26-55 age range, particularly emphasizing programs and equipment that cater to the 46-55 demographic (which is backed by previous table and observations).\n",
    "- Develop targeted promotional campaigns, such as workshops, fitness classes, dance classes, zumba sessions and tailored training programs, to engage this age group and enhance retention.\n",
    "- Consider offering introductory classes or incentives to attract younger demographics (18-25) while maintaining strong engagement with the older crowd."
   ]
  },
  {
   "cell_type": "code",
   "execution_count": 17,
   "id": "327eea6a",
   "metadata": {
    "execution": {
     "iopub.execute_input": "2024-11-05T13:35:51.789959Z",
     "iopub.status.busy": "2024-11-05T13:35:51.789545Z",
     "iopub.status.idle": "2024-11-05T13:35:52.275979Z",
     "shell.execute_reply": "2024-11-05T13:35:52.274523Z"
    },
    "papermill": {
     "duration": 0.505,
     "end_time": "2024-11-05T13:35:52.278863",
     "exception": false,
     "start_time": "2024-11-05T13:35:51.773863",
     "status": "completed"
    },
    "tags": []
   },
   "outputs": [
    {
     "data": {
      "image/png": "[encoded data removed]",
      "text/plain": [
       "<Figure size 2000x500 with 1 Axes>"
      ]
     },
     "metadata": {},
     "output_type": "display_data"
    }
   ],
   "source": [
    "Workout_Frequency = round((df.pivot_table(index='Age_Group', columns='Workout_Frequency', aggfunc='size', fill_value=0)/len(df)*100),2)\\\n",
    "                                .reset_index().rename_axis(columns=None)\n",
    "Workout_Frequency.set_index('Age_Group').plot(kind='bar')\n",
    "plt.title('Age Group Wise Distribution of Workout Frequency of members')\n",
    "plt.ylabel('Percent')\n",
    "plt.xticks(rotation=0)\n",
    "plt.show()"
   ]
  },
  {
   "cell_type": "markdown",
   "id": "272d3bad",
   "metadata": {
    "papermill": {
     "duration": 0.02113,
     "end_time": "2024-11-05T13:35:52.320316",
     "exception": false,
     "start_time": "2024-11-05T13:35:52.299186",
     "status": "completed"
    },
    "tags": []
   },
   "source": [
    "Observation\n",
    "\n",
    "- The age group 26-55 shows significant engagement with the gym, particularly those who attend 3, 4, and 5 days a week.\n",
    "- The 18-25 age group has lower participation rates overall, but some members do attend regularly (especially 3 days a week).\n",
    "\n",
    "So What?\n",
    "\n",
    "- <span style=\" color: #0000FF;\">Focusing on the 26-55 age range (specifically those who attend 3-5 days a week) presents a prime opportunity for targeted marketing and program development</span>. This demographic is likely committed to their fitness journey and can be engaged with tailored offerings that meet their needs.\n",
    "- While the 18-25 age group has lower representation, there’s potential for growth in this segment, indicating the importance of creating appealing programs to attract younger members.\n",
    "\n",
    "Action\n",
    "\n",
    "- Develop targeted marketing campaigns aimed at the 26-55 age group, emphasizing consistency in attendance (3-5 days a week) and designing programs that cater to their fitness goals.\n",
    "- Introduce promotions or incentives for members who attend regularly, enhancing engagement and retention among this demographic.\n",
    "- Consider creating introductory programs or special classes aimed at the 18-25 age group to boost their participation while not over-investing compared to the more engaged demographics."
   ]
  },
  {
   "cell_type": "code",
   "execution_count": 18,
   "id": "4b7bdb7c",
   "metadata": {
    "execution": {
     "iopub.execute_input": "2024-11-05T13:35:52.364730Z",
     "iopub.status.busy": "2024-11-05T13:35:52.363819Z",
     "iopub.status.idle": "2024-11-05T13:35:52.854134Z",
     "shell.execute_reply": "2024-11-05T13:35:52.852857Z"
    },
    "papermill": {
     "duration": 0.512965,
     "end_time": "2024-11-05T13:35:52.857291",
     "exception": false,
     "start_time": "2024-11-05T13:35:52.344326",
     "status": "completed"
    },
    "tags": []
   },
   "outputs": [
    {
     "data": {
      "image/png": "[encoded data removed]",
      "text/plain": [
       "<Figure size 2000x500 with 1 Axes>"
      ]
     },
     "metadata": {},
     "output_type": "display_data"
    }
   ],
   "source": [
    "Weight_Category = round((df.pivot_table(index='Age_Group', columns='Weight_Category', aggfunc='size', fill_value=0)/len(df)*100),2)\\\n",
    "                                .reset_index().rename_axis(columns=None)\n",
    "Weight_Category.set_index('Age_Group').plot(kind='bar')\n",
    "plt.title('Age Group Wise Weight Distribution of members')\n",
    "plt.ylabel('Percent')\n",
    "plt.xticks(rotation=0)\n",
    "plt.grid(True)\n",
    "plt.show()"
   ]
  },
  {
   "cell_type": "markdown",
   "id": "6e1b87b3",
   "metadata": {
    "papermill": {
     "duration": 0.019725,
     "end_time": "2024-11-05T13:35:52.893900",
     "exception": false,
     "start_time": "2024-11-05T13:35:52.874175",
     "status": "completed"
    },
    "tags": []
   },
   "source": [
    "Observations: \n",
    "\n",
    "- The age group 26-35 has the highest percentage of normal weight members (9.04%), while 46-55 shows notable obesity (4.83%) and overweight (6.27%), indicating a need for targeted weight loss programs. Additionally, the 18-25 group has a higher percentage of underweight individuals (2.47%), suggesting a focus on health improvement for younger members.\n",
    "\n",
    "So What?\n",
    "\n",
    "- The significant percentage of <span style=\" color: #0000FF;\">members with obesity and overweight in the 46-55 age group suggests that the gym should develop targeted weight loss programs and nutritional guidance aimed specifically at this demographic.</span> \n",
    "-  <span style=\" color: #0000FF;\">High normal weight percentages in younger groups (18-35) indicate opportunities </span> to focus on maintenance and enhancement of fitness levels through advanced classes or competitions. \n",
    "- Highlighting success stories and promoting programs that support weight management could attract more members in the overweight and obese categories.\n",
    "\n",
    "Action\n",
    "\n",
    "1. Develop Specific Programs:\n",
    "    - Implement weight management programs focusing on education and practical strategies for the 46-55 age group.\n",
    "    - Offer fitness assessments and personalized training for those identified as overweight or obese.\n",
    "2. Create Engaging Content: Develop marketing content that resonates with younger members focusing on the benefits of maintaining fitness and healthy lifestyles to prevent future health issues.\n",
    "3. Promote Community Engagement:  Host workshops or seminars on nutrition and fitness for middle-aged members to help them understand their health better.\n",
    "4. Fitness Challenges: Introduce challenges that encourage participation from various weight categories, fostering a supportive community atmosphere."
   ]
  },
  {
   "cell_type": "code",
   "execution_count": 19,
   "id": "30f742d1",
   "metadata": {
    "execution": {
     "iopub.execute_input": "2024-11-05T13:35:52.932949Z",
     "iopub.status.busy": "2024-11-05T13:35:52.931894Z",
     "iopub.status.idle": "2024-11-05T13:35:52.948385Z",
     "shell.execute_reply": "2024-11-05T13:35:52.946381Z"
    },
    "papermill": {
     "duration": 0.038742,
     "end_time": "2024-11-05T13:35:52.952145",
     "exception": false,
     "start_time": "2024-11-05T13:35:52.913403",
     "status": "completed"
    },
    "tags": []
   },
   "outputs": [
    {
     "data": {
      "text/html": [
       "<div>\n",
       "<style scoped>\n",
       "    .dataframe tbody tr th:only-of-type {\n",
       "        vertical-align: middle;\n",
       "    }\n",
       "\n",
       "    .dataframe tbody tr th {\n",
       "        vertical-align: top;\n",
       "    }\n",
       "\n",
       "    .dataframe thead th {\n",
       "        text-align: right;\n",
       "    }\n",
       "</style>\n",
       "<table border=\"1\" class=\"dataframe\">\n",
       "  <thead>\n",
       "    <tr style=\"text-align: right;\">\n",
       "      <th></th>\n",
       "      <th>Fat_Category</th>\n",
       "      <th>member_pct</th>\n",
       "    </tr>\n",
       "  </thead>\n",
       "  <tbody>\n",
       "    <tr>\n",
       "      <th>0</th>\n",
       "      <td>High</td>\n",
       "      <td>59.40</td>\n",
       "    </tr>\n",
       "    <tr>\n",
       "      <th>1</th>\n",
       "      <td>Moderate</td>\n",
       "      <td>30.42</td>\n",
       "    </tr>\n",
       "    <tr>\n",
       "      <th>2</th>\n",
       "      <td>Low</td>\n",
       "      <td>10.17</td>\n",
       "    </tr>\n",
       "  </tbody>\n",
       "</table>\n",
       "</div>"
      ],
      "text/plain": [
       "  Fat_Category  member_pct\n",
       "0         High       59.40\n",
       "1     Moderate       30.42\n",
       "2          Low       10.17"
      ]
     },
     "execution_count": 19,
     "metadata": {},
     "output_type": "execute_result"
    }
   ],
   "source": [
    "query = '''\n",
    "\n",
    "with cte as (SELECT \n",
    "        CASE \n",
    "            WHEN Fat_Percentage < 15 THEN 'Low'\n",
    "            WHEN Fat_Percentage >= 15 AND Fat_Percentage < 25 THEN 'Moderate'\n",
    "            WHEN Fat_Percentage >= 25 THEN 'High'\n",
    "            ELSE 'Unknown'\n",
    "        END AS Fat_Category\n",
    "    FROM exercise_data)\n",
    "    \n",
    "select Fat_Category, round(count(Fat_Category)*100.0/(select count(*) from exercise_data),2) as member_pct\n",
    "from cte \n",
    "group by Fat_Category \n",
    "order by member_pct desc\n",
    "       \n",
    "'''\n",
    "Fat_Percentage = pd.read_sql(query, conn)\n",
    "Fat_Percentage"
   ]
  },
  {
   "cell_type": "markdown",
   "id": "8ecbb6a9",
   "metadata": {
    "papermill": {
     "duration": 0.015632,
     "end_time": "2024-11-05T13:35:52.984346",
     "exception": false,
     "start_time": "2024-11-05T13:35:52.968714",
     "status": "completed"
    },
    "tags": []
   },
   "source": [
    "- Observation: The majority of members fall under the High fat category (59.40%), while only a small portion is in the Low fat category (10.17%).\n",
    "- So What?: <span style=\" color: #0000FF;\">This distribution suggests a high need for programs focused on fat reduction and body composition improvement among members.</span>\n",
    "- Action: Introduce targeted fitness programs and nutrition guidance and market them using fliers or social media ads to engage and support members with higher body fat percentages, enhancing health outcomes and potentially boosting gym engagement."
   ]
  },
  {
   "cell_type": "markdown",
   "id": "4bad7a8b",
   "metadata": {
    "papermill": {
     "duration": 0.01562,
     "end_time": "2024-11-05T13:35:53.015960",
     "exception": false,
     "start_time": "2024-11-05T13:35:53.000340",
     "status": "completed"
    },
    "tags": []
   },
   "source": [
    "## Key Insights\n",
    "\n",
    "1. Strength Training Popularity: A significant 26.52% of members prefer strength training, indicating a focus on muscle building rather than just aesthetics.\n",
    "2. Gender Disparity: Males make up 52.52% of gym members, suggesting they prioritize fitness more than females. This demographic represents potential for targeted female engagement strategies.\n",
    "3. Cardio as a Key Offering: Cardio workouts are the most popular across genders, highlighting an opportunity for diverse marketing strategies to attract new members.\n",
    "4. Age Demographics: The 46-55 age group constitutes the largest portion of members (26.10%) and shows a preference for strength and HIIT training, while younger members (18-25) show lower participation rates.\n",
    "5. Weight and Body Fat Categories: There’s a notable presence of overweight (6.27%) and obese (4.83%) members in the 46-55 age group, suggesting a need for targeted weight loss programs. High fat levels (59.40%) across the membership also indicate a demand for fat reduction initiatives."
   ]
  },
  {
   "cell_type": "markdown",
   "id": "d1f13a30",
   "metadata": {
    "papermill": {
     "duration": 0.016224,
     "end_time": "2024-11-05T13:35:53.048747",
     "exception": false,
     "start_time": "2024-11-05T13:35:53.032523",
     "status": "completed"
    },
    "tags": []
   },
   "source": [
    "## Recommended Actions\n",
    "\n",
    "1. Expand Strength Training Facilities: Increase the number of strength training machines and develop targeted programs to enhance muscle building among members.\n",
    "2. Target Female Engagement: Implement marketing strategies that cater specifically to female members, including female-focused classes and a welcoming environment.\n",
    "3. Promote Cardio Programs: Launch targeted marketing campaigns around cardio workouts, emphasizing community success stories to attract a diverse member base.\n",
    "4. Focus on the 46-55 Age Group: Tailor marketing and gym offerings to this demographic, enhancing HIIT and strength training classes while promoting health benefits.\n",
    "5. Develop Targeted Weight Management Programs: Implement weight loss initiatives and nutritional guidance for members categorized as overweight and obese, alongside workshops on maintaining a healthy lifestyle for younger demographics.\n",
    "6. Enhance Community Engagement: Foster community through workshops, fitness challenges, and specialized classes, encouraging participation from diverse age and weight categories."
   ]
  }
 ],
 "metadata": {
  "kaggle": {
   "accelerator": "none",
   "dataSources": [
    {
     "datasetId": 5825454,
     "sourceId": 9559728,
     "sourceType": "datasetVersion"
    }
   ],
   "dockerImageVersionId": 30786,
   "isGpuEnabled": false,
   "isInternetEnabled": true,
   "language": "python",
   "sourceType": "notebook"
  },
  "kernelspec": {
   "display_name": "Python 3 (ipykernel)",
   "language": "python",
   "name": "python3"
  },
  "language_info": {
   "codemirror_mode": {
    "name": "ipython",
    "version": 3
   },
   "file_extension": ".py",
   "mimetype": "text/x-python",
   "name": "python",
   "nbconvert_exporter": "python",
   "pygments_lexer": "ipython3",
   "version": "3.9.13"
  },
  "papermill": {
   "default_parameters": {},
   "duration": 10.664825,
   "end_time": "2024-11-05T13:35:53.788133",
   "environment_variables": {},
   "exception": null,
   "input_path": "__notebook__.ipynb",
   "output_path": "__notebook__.ipynb",
   "parameters": {},
   "start_time": "2024-11-05T13:35:43.123308",
   "version": "2.6.0"
  }
 },
 "nbformat": 4,
 "nbformat_minor": 5
}
